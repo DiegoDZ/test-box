{
 "cells": [
  {
   "cell_type": "markdown",
   "metadata": {},
   "source": [
    "# Tutorial Plotly\n",
    "\n",
    "\n",
    "Plotly es una herramienta de visualización y análisis de datos en línea que permite obtener gráficos interactivos.  En este tutorial simple y esquématico veremos cómo dar los primeros pasos con Plotly para Python en su uso como generador de gráficos. Está basado en un par de tutoriales de la página oficial de Plotly. \n",
    "\n",
    "\n",
    "__Disclaimer__: Este tutorial está creado como recordatorio personal. No es riguroso y puede contener errores.\n",
    "\n",
    "\n",
    "\n",
    "__Importante__: La versión gratuita de Plotly únicamente permite generar 25 gráficos. Cuando lleguemos al tope nos pedirá que eliminemos algún gráfico o sobreescribamos sobre uno ya generado. Los gráficos se pueden eliminar en nuestro perfil de Plotly. \n",
    "\n",
    "__Instalación__\n",
    "\n",
    "1. Nos creamos una cuenta en [Plotly](https://plot.ly/#/). Necesitamos la API que podemos obtener en el perfil creado. Si aparece oculta dar a refescar.  \n",
    "\n",
    "1. $ pip install plotly\n",
    "\n",
    "2. $ python\n",
    "\n",
    "   > import plotly\n",
    "   \n",
    "   > plotly.tools.set_credentials_file(username='nombre_usuario', api_key='_api_generada')\n",
    "\n",
    "3. Chequear en ~/.plotly/.credentials que tenemos las credenciales adecuadas. "
   ]
  },
  {
   "cell_type": "code",
   "execution_count": 1,
   "metadata": {},
   "outputs": [],
   "source": [
    "# Importamos librerías\n",
    "\n",
    "import pandas as pd\n",
    "import numpy as np\n",
    "import plotly.plotly as py      # Contiene las funciones que nos ayudarán a comunicarnos con los servidores de Plotly.\n",
    "import plotly.graph_objs as go  # Contienen las funciones que generarán los objetos gráficos. \n",
    "\n",
    "from IPython.display import IFrame "
   ]
  },
  {
   "cell_type": "markdown",
   "metadata": {},
   "source": [
    "## Creación de trazas, Data y Layout"
   ]
  },
  {
   "cell_type": "code",
   "execution_count": 2,
   "metadata": {},
   "outputs": [],
   "source": [
    "# Creamos las trazas que luego representaremos. \n",
    "# Una traza solo es el nombre que damos a una colección de datos y de especificaciones . La traza es un objeto en sí. \n",
    "\n",
    "trace1 = go.Scatter(x=[1,2,3], y=[4,5,6], marker={'color':'red', 'symbol':104, 'size':10},\n",
    "                   mode=\"markers+lines\", text=[\"one\", \"two\", \"three\"], name='1st Trace')\n",
    "\n",
    "trace2 = go.Scatter(x=[1,2,3], y=[4.5,3.5,6], marker={'color':'blue', 'symbol':104, 'size':10},\n",
    "                   mode=\"markers+lines\", text=[\"one\", \"two\", \"three\"], name='2st Trace')"
   ]
  },
  {
   "cell_type": "code",
   "execution_count": 3,
   "metadata": {},
   "outputs": [
    {
     "name": "stderr",
     "output_type": "stream",
     "text": [
      "/home/diego/anaconda3/lib/python3.7/site-packages/plotly/graph_objs/_deprecations.py:39: DeprecationWarning:\n",
      "\n",
      "plotly.graph_objs.Data is deprecated.\n",
      "Please replace it with a list or tuple of instances of the following types\n",
      "  - plotly.graph_objs.Scatter\n",
      "  - plotly.graph_objs.Bar\n",
      "  - plotly.graph_objs.Area\n",
      "  - plotly.graph_objs.Histogram\n",
      "  - etc.\n",
      "\n",
      "\n",
      "/home/diego/anaconda3/lib/python3.7/site-packages/IPython/core/display.py:689: UserWarning:\n",
      "\n",
      "Consider using IPython.display.IFrame instead\n",
      "\n"
     ]
    },
    {
     "data": {
      "text/html": [
       "<iframe id=\"igraph\" scrolling=\"no\" style=\"border:none;\" seamless=\"seamless\" src=\"https://plot.ly/~diegodz/84.embed\" height=\"525px\" width=\"100%\"></iframe>"
      ],
      "text/plain": [
       "<chart_studio.tools.PlotlyDisplay object>"
      ]
     },
     "execution_count": 3,
     "metadata": {},
     "output_type": "execute_result"
    }
   ],
   "source": [
    "# Data contiene todas las trazas que queremos representar.\n",
    "data = go.Data([trace1,trace2])\n",
    "\n",
    "# Layout define el aspecto que tendrá el gráfico y los atributos que no están relacionados con los datos. \n",
    "layout = go.Layout(title='Test', xaxis={'title':'x1'}, yaxis={'title':'x2'})\n",
    "\n",
    "# Figure crea el objeto final que representaremos. Crea un objeto de tipo diccionario con la información de Data y Layout\n",
    "figure = go.Figure(data=data, layout=layout)\n",
    "py.iplot(figure, filename='pyguide_1')"
   ]
  },
  {
   "cell_type": "code",
   "execution_count": 4,
   "metadata": {},
   "outputs": [
    {
     "data": {
      "text/plain": [
       "Figure({\n",
       "    'data': [{'marker': {'color': 'red', 'size': 10, 'symbol': 104},\n",
       "              'mode': 'markers+lines',\n",
       "              'name': '1st Trace',\n",
       "              'text': [one, two, three],\n",
       "              'type': 'scatter',\n",
       "              'uid': 'aca4480e-6516-4f88-bf6f-124fc392e056',\n",
       "              'x': [1, 2, 3],\n",
       "              'y': [4, 5, 6]},\n",
       "             {'marker': {'color': 'blue', 'size': 10, 'symbol': 104},\n",
       "              'mode': 'markers+lines',\n",
       "              'name': '2st Trace',\n",
       "              'text': [one, two, three],\n",
       "              'type': 'scatter',\n",
       "              'uid': '18f20904-a85b-44c9-8d2b-2bbf6d21dc1e',\n",
       "              'x': [1, 2, 3],\n",
       "              'y': [4.5, 3.5, 6]}],\n",
       "    'layout': {'title': {'text': 'Test'}, 'xaxis': {'title': {'text': 'x1'}}, 'yaxis': {'title': {'text': 'x2'}}}\n",
       "})"
      ]
     },
     "execution_count": 4,
     "metadata": {},
     "output_type": "execute_result"
    }
   ],
   "source": [
    "# Vemos que figure realmente es un diccionario\n",
    "figure"
   ]
  },
  {
   "cell_type": "markdown",
   "metadata": {},
   "source": [
    "## Un ejemplo más complicado con datos de GDP y esperanza de vida por país\n",
    "\n",
    "Crearemos un gráfico interactivo de puntos"
   ]
  },
  {
   "cell_type": "code",
   "execution_count": 5,
   "metadata": {},
   "outputs": [],
   "source": [
    "df = pd.read_csv('https://raw.githubusercontent.com/yankev/test/master/life-expectancy-per-GDP-2007.csv')"
   ]
  },
  {
   "cell_type": "code",
   "execution_count": 6,
   "metadata": {},
   "outputs": [
    {
     "data": {
      "text/html": [
       "<div>\n",
       "<style scoped>\n",
       "    .dataframe tbody tr th:only-of-type {\n",
       "        vertical-align: middle;\n",
       "    }\n",
       "\n",
       "    .dataframe tbody tr th {\n",
       "        vertical-align: top;\n",
       "    }\n",
       "\n",
       "    .dataframe thead th {\n",
       "        text-align: right;\n",
       "    }\n",
       "</style>\n",
       "<table border=\"1\" class=\"dataframe\">\n",
       "  <thead>\n",
       "    <tr style=\"text-align: right;\">\n",
       "      <th></th>\n",
       "      <th>Unnamed: 0</th>\n",
       "      <th>continent</th>\n",
       "      <th>country</th>\n",
       "      <th>gdp_percap</th>\n",
       "      <th>life_exp</th>\n",
       "    </tr>\n",
       "  </thead>\n",
       "  <tbody>\n",
       "    <tr>\n",
       "      <th>0</th>\n",
       "      <td>0</td>\n",
       "      <td>Americas</td>\n",
       "      <td>Country: Argentina&lt;br&gt;Population: 40301927.0</td>\n",
       "      <td>12779.379640</td>\n",
       "      <td>75.320</td>\n",
       "    </tr>\n",
       "    <tr>\n",
       "      <th>1</th>\n",
       "      <td>1</td>\n",
       "      <td>Americas</td>\n",
       "      <td>Country: Bolivia&lt;br&gt;Population: 9119152.0</td>\n",
       "      <td>3822.137084</td>\n",
       "      <td>65.554</td>\n",
       "    </tr>\n",
       "    <tr>\n",
       "      <th>2</th>\n",
       "      <td>2</td>\n",
       "      <td>Americas</td>\n",
       "      <td>Country: Brazil&lt;br&gt;Population: 190010647.0</td>\n",
       "      <td>9065.800825</td>\n",
       "      <td>72.390</td>\n",
       "    </tr>\n",
       "    <tr>\n",
       "      <th>3</th>\n",
       "      <td>3</td>\n",
       "      <td>Americas</td>\n",
       "      <td>Country: Canada&lt;br&gt;Population: 33390141.0</td>\n",
       "      <td>36319.235010</td>\n",
       "      <td>80.653</td>\n",
       "    </tr>\n",
       "    <tr>\n",
       "      <th>4</th>\n",
       "      <td>4</td>\n",
       "      <td>Americas</td>\n",
       "      <td>Country: Chile&lt;br&gt;Population: 16284741.0</td>\n",
       "      <td>13171.638850</td>\n",
       "      <td>78.553</td>\n",
       "    </tr>\n",
       "  </tbody>\n",
       "</table>\n",
       "</div>"
      ],
      "text/plain": [
       "   Unnamed: 0 continent                                       country  \\\n",
       "0           0  Americas  Country: Argentina<br>Population: 40301927.0   \n",
       "1           1  Americas     Country: Bolivia<br>Population: 9119152.0   \n",
       "2           2  Americas    Country: Brazil<br>Population: 190010647.0   \n",
       "3           3  Americas     Country: Canada<br>Population: 33390141.0   \n",
       "4           4  Americas      Country: Chile<br>Population: 16284741.0   \n",
       "\n",
       "     gdp_percap  life_exp  \n",
       "0  12779.379640    75.320  \n",
       "1   3822.137084    65.554  \n",
       "2   9065.800825    72.390  \n",
       "3  36319.235010    80.653  \n",
       "4  13171.638850    78.553  "
      ]
     },
     "execution_count": 6,
     "metadata": {},
     "output_type": "execute_result"
    }
   ],
   "source": [
    "df.head()"
   ]
  },
  {
   "cell_type": "code",
   "execution_count": 7,
   "metadata": {},
   "outputs": [
    {
     "data": {
      "text/plain": [
       "array(['Americas', 'Europe'], dtype=object)"
      ]
     },
     "execution_count": 7,
     "metadata": {},
     "output_type": "execute_result"
    }
   ],
   "source": [
    "df['continent'].unique()"
   ]
  },
  {
   "cell_type": "code",
   "execution_count": 8,
   "metadata": {},
   "outputs": [],
   "source": [
    "americas = df[df['continent']=='Americas']\n",
    "europe = df[df['continent']=='Europe']"
   ]
  },
  {
   "cell_type": "code",
   "execution_count": 9,
   "metadata": {},
   "outputs": [
    {
     "data": {
      "text/html": [
       "<div>\n",
       "<style scoped>\n",
       "    .dataframe tbody tr th:only-of-type {\n",
       "        vertical-align: middle;\n",
       "    }\n",
       "\n",
       "    .dataframe tbody tr th {\n",
       "        vertical-align: top;\n",
       "    }\n",
       "\n",
       "    .dataframe thead th {\n",
       "        text-align: right;\n",
       "    }\n",
       "</style>\n",
       "<table border=\"1\" class=\"dataframe\">\n",
       "  <thead>\n",
       "    <tr style=\"text-align: right;\">\n",
       "      <th></th>\n",
       "      <th>Unnamed: 0</th>\n",
       "      <th>continent</th>\n",
       "      <th>country</th>\n",
       "      <th>gdp_percap</th>\n",
       "      <th>life_exp</th>\n",
       "    </tr>\n",
       "  </thead>\n",
       "  <tbody>\n",
       "    <tr>\n",
       "      <th>0</th>\n",
       "      <td>0</td>\n",
       "      <td>Americas</td>\n",
       "      <td>Country: Argentina&lt;br&gt;Population: 40301927.0</td>\n",
       "      <td>12779.379640</td>\n",
       "      <td>75.320</td>\n",
       "    </tr>\n",
       "    <tr>\n",
       "      <th>1</th>\n",
       "      <td>1</td>\n",
       "      <td>Americas</td>\n",
       "      <td>Country: Bolivia&lt;br&gt;Population: 9119152.0</td>\n",
       "      <td>3822.137084</td>\n",
       "      <td>65.554</td>\n",
       "    </tr>\n",
       "    <tr>\n",
       "      <th>2</th>\n",
       "      <td>2</td>\n",
       "      <td>Americas</td>\n",
       "      <td>Country: Brazil&lt;br&gt;Population: 190010647.0</td>\n",
       "      <td>9065.800825</td>\n",
       "      <td>72.390</td>\n",
       "    </tr>\n",
       "    <tr>\n",
       "      <th>3</th>\n",
       "      <td>3</td>\n",
       "      <td>Americas</td>\n",
       "      <td>Country: Canada&lt;br&gt;Population: 33390141.0</td>\n",
       "      <td>36319.235010</td>\n",
       "      <td>80.653</td>\n",
       "    </tr>\n",
       "    <tr>\n",
       "      <th>4</th>\n",
       "      <td>4</td>\n",
       "      <td>Americas</td>\n",
       "      <td>Country: Chile&lt;br&gt;Population: 16284741.0</td>\n",
       "      <td>13171.638850</td>\n",
       "      <td>78.553</td>\n",
       "    </tr>\n",
       "  </tbody>\n",
       "</table>\n",
       "</div>"
      ],
      "text/plain": [
       "   Unnamed: 0 continent                                       country  \\\n",
       "0           0  Americas  Country: Argentina<br>Population: 40301927.0   \n",
       "1           1  Americas     Country: Bolivia<br>Population: 9119152.0   \n",
       "2           2  Americas    Country: Brazil<br>Population: 190010647.0   \n",
       "3           3  Americas     Country: Canada<br>Population: 33390141.0   \n",
       "4           4  Americas      Country: Chile<br>Population: 16284741.0   \n",
       "\n",
       "     gdp_percap  life_exp  \n",
       "0  12779.379640    75.320  \n",
       "1   3822.137084    65.554  \n",
       "2   9065.800825    72.390  \n",
       "3  36319.235010    80.653  \n",
       "4  13171.638850    78.553  "
      ]
     },
     "execution_count": 9,
     "metadata": {},
     "output_type": "execute_result"
    }
   ],
   "source": [
    "americas.head()"
   ]
  },
  {
   "cell_type": "code",
   "execution_count": 10,
   "metadata": {},
   "outputs": [],
   "source": [
    "trace_comp0 = go.Scatter(x = americas.gdp_percap, y = americas.life_exp, \n",
    "                         mode='markers', \n",
    "                         marker={'color':'navy', 'symbol':0, 'size':12},\n",
    "                         name='Americas',\n",
    "                         text=americas.country)\n",
    "\n",
    "trace_comp1 = go.Scatter(x = europe.gdp_percap, y = europe.life_exp, \n",
    "                         mode='markers', \n",
    "                         marker={'color':'darkorange', 'symbol':0, 'size':12},\n",
    "                         name='Europe', \n",
    "                         text=europe.country)"
   ]
  },
  {
   "cell_type": "code",
   "execution_count": 11,
   "metadata": {},
   "outputs": [
    {
     "data": {
      "text/html": [
       "<iframe id=\"igraph\" scrolling=\"no\" style=\"border:none;\" seamless=\"seamless\" src=\"https://plot.ly/~diegodz/86.embed\" height=\"525px\" width=\"100%\"></iframe>"
      ],
      "text/plain": [
       "<chart_studio.tools.PlotlyDisplay object>"
      ]
     },
     "execution_count": 11,
     "metadata": {},
     "output_type": "execute_result"
    }
   ],
   "source": [
    "data_comp = [trace_comp0, trace_comp1]\n",
    "\n",
    "layout_comp = go.Layout(title='Life exp. vs. GDP vy country', xaxis={'title':'GDP'}, yaxis={'title':'Life expentancy'})\n",
    "\n",
    "fig_comp = go.Figure(data=data_comp, layout=layout_comp)\n",
    "py.iplot(fig_comp, filename='life vs. GDP')"
   ]
  },
  {
   "cell_type": "markdown",
   "metadata": {},
   "source": [
    "# Cufflinks \n",
    "\n",
    "Cufflinks es un paquete muy útil que nos va a permitir trabajar con pandas y Plotly\n",
    "\n",
    "\n",
    "$ pip install cufflinks"
   ]
  },
  {
   "cell_type": "code",
   "execution_count": 12,
   "metadata": {},
   "outputs": [],
   "source": [
    "import plotly.tools as tls\n",
    "import cufflinks as cf\n",
    "# Escogemos el tema de los gŕaficos: \n",
    "cf.set_config_file(theme='ggplot')\n",
    "#cf.set_config_file(theme='pearl') #fondo gris.\n",
    "#cf.set_config_file(theme='white') #fondo blanco. \n",
    "#cf.set_config_file(theme='solar') #fondo negro. "
   ]
  },
  {
   "cell_type": "code",
   "execution_count": 13,
   "metadata": {},
   "outputs": [],
   "source": [
    "# Cargamos un datasets de genes http://www.data-gen.com/es/\n",
    "df = cf.datagen.lines()"
   ]
  },
  {
   "cell_type": "code",
   "execution_count": 14,
   "metadata": {},
   "outputs": [
    {
     "data": {
      "text/html": [
       "<div>\n",
       "<style scoped>\n",
       "    .dataframe tbody tr th:only-of-type {\n",
       "        vertical-align: middle;\n",
       "    }\n",
       "\n",
       "    .dataframe tbody tr th {\n",
       "        vertical-align: top;\n",
       "    }\n",
       "\n",
       "    .dataframe thead th {\n",
       "        text-align: right;\n",
       "    }\n",
       "</style>\n",
       "<table border=\"1\" class=\"dataframe\">\n",
       "  <thead>\n",
       "    <tr style=\"text-align: right;\">\n",
       "      <th></th>\n",
       "      <th>YFQ.GN</th>\n",
       "      <th>QRW.XP</th>\n",
       "      <th>GFJ.YP</th>\n",
       "      <th>SQH.FY</th>\n",
       "      <th>TID.MB</th>\n",
       "    </tr>\n",
       "  </thead>\n",
       "  <tbody>\n",
       "    <tr>\n",
       "      <th>2015-01-01</th>\n",
       "      <td>-0.557291</td>\n",
       "      <td>2.263592</td>\n",
       "      <td>1.079831</td>\n",
       "      <td>0.717926</td>\n",
       "      <td>-0.550931</td>\n",
       "    </tr>\n",
       "    <tr>\n",
       "      <th>2015-01-02</th>\n",
       "      <td>-0.741325</td>\n",
       "      <td>1.284434</td>\n",
       "      <td>2.444546</td>\n",
       "      <td>0.069252</td>\n",
       "      <td>0.389617</td>\n",
       "    </tr>\n",
       "    <tr>\n",
       "      <th>2015-01-03</th>\n",
       "      <td>-1.625984</td>\n",
       "      <td>0.187143</td>\n",
       "      <td>2.490457</td>\n",
       "      <td>0.053704</td>\n",
       "      <td>0.786578</td>\n",
       "    </tr>\n",
       "    <tr>\n",
       "      <th>2015-01-04</th>\n",
       "      <td>-1.552797</td>\n",
       "      <td>1.305820</td>\n",
       "      <td>3.869178</td>\n",
       "      <td>-0.237811</td>\n",
       "      <td>1.702188</td>\n",
       "    </tr>\n",
       "    <tr>\n",
       "      <th>2015-01-05</th>\n",
       "      <td>-2.266296</td>\n",
       "      <td>2.664333</td>\n",
       "      <td>4.426728</td>\n",
       "      <td>0.112407</td>\n",
       "      <td>1.269569</td>\n",
       "    </tr>\n",
       "  </tbody>\n",
       "</table>\n",
       "</div>"
      ],
      "text/plain": [
       "              YFQ.GN    QRW.XP    GFJ.YP    SQH.FY    TID.MB\n",
       "2015-01-01 -0.557291  2.263592  1.079831  0.717926 -0.550931\n",
       "2015-01-02 -0.741325  1.284434  2.444546  0.069252  0.389617\n",
       "2015-01-03 -1.625984  0.187143  2.490457  0.053704  0.786578\n",
       "2015-01-04 -1.552797  1.305820  3.869178 -0.237811  1.702188\n",
       "2015-01-05 -2.266296  2.664333  4.426728  0.112407  1.269569"
      ]
     },
     "execution_count": 14,
     "metadata": {},
     "output_type": "execute_result"
    }
   ],
   "source": [
    "df.head()"
   ]
  },
  {
   "cell_type": "code",
   "execution_count": 15,
   "metadata": {},
   "outputs": [
    {
     "name": "stderr",
     "output_type": "stream",
     "text": [
      "/home/diego/anaconda3/lib/python3.7/site-packages/IPython/core/display.py:689: UserWarning:\n",
      "\n",
      "Consider using IPython.display.IFrame instead\n",
      "\n"
     ]
    },
    {
     "data": {
      "text/html": [
       "<iframe id=\"igraph\" scrolling=\"no\" style=\"border:none;\" seamless=\"seamless\" src=\"https://plot.ly/~diegodz/88.embed\" height=\"525px\" width=\"100%\"></iframe>"
      ],
      "text/plain": [
       "<chart_studio.tools.PlotlyDisplay object>"
      ]
     },
     "execution_count": 15,
     "metadata": {},
     "output_type": "execute_result"
    }
   ],
   "source": [
    "py.iplot([{\n",
    "    'x': df.index, \n",
    "    'y': df[col], \n",
    "    'name': col\n",
    "} for col in df.columns], filename = 'simple-line')"
   ]
  },
  {
   "cell_type": "code",
   "execution_count": 16,
   "metadata": {},
   "outputs": [
    {
     "data": {
      "text/html": [
       "<iframe id=\"igraph\" scrolling=\"no\" style=\"border:none;\" seamless=\"seamless\" src=\"https://plot.ly/~diegodz/90.embed\" height=\"525px\" width=\"100%\"></iframe>"
      ],
      "text/plain": [
       "<chart_studio.tools.PlotlyDisplay object>"
      ]
     },
     "execution_count": 16,
     "metadata": {},
     "output_type": "execute_result"
    }
   ],
   "source": [
    "# scatter_matrix es como el pairplot de seaborn\n",
    "df.scatter_matrix(filename='scatter-matrix', world_readable=True)  \n",
    "#world_readable=False si queremos que sea gráficos privados"
   ]
  },
  {
   "cell_type": "markdown",
   "metadata": {},
   "source": [
    "## Gráfico de líneas"
   ]
  },
  {
   "cell_type": "code",
   "execution_count": 17,
   "metadata": {},
   "outputs": [],
   "source": [
    "df = pd.DataFrame(np.random.randn(1000, 2), columns=['A', 'B']).cumsum()"
   ]
  },
  {
   "cell_type": "code",
   "execution_count": 18,
   "metadata": {},
   "outputs": [
    {
     "data": {
      "text/html": [
       "<div>\n",
       "<style scoped>\n",
       "    .dataframe tbody tr th:only-of-type {\n",
       "        vertical-align: middle;\n",
       "    }\n",
       "\n",
       "    .dataframe tbody tr th {\n",
       "        vertical-align: top;\n",
       "    }\n",
       "\n",
       "    .dataframe thead th {\n",
       "        text-align: right;\n",
       "    }\n",
       "</style>\n",
       "<table border=\"1\" class=\"dataframe\">\n",
       "  <thead>\n",
       "    <tr style=\"text-align: right;\">\n",
       "      <th></th>\n",
       "      <th>A</th>\n",
       "      <th>B</th>\n",
       "    </tr>\n",
       "  </thead>\n",
       "  <tbody>\n",
       "    <tr>\n",
       "      <th>0</th>\n",
       "      <td>1.468932</td>\n",
       "      <td>-2.009810</td>\n",
       "    </tr>\n",
       "    <tr>\n",
       "      <th>1</th>\n",
       "      <td>1.061459</td>\n",
       "      <td>-1.872694</td>\n",
       "    </tr>\n",
       "    <tr>\n",
       "      <th>2</th>\n",
       "      <td>1.990768</td>\n",
       "      <td>-2.354977</td>\n",
       "    </tr>\n",
       "    <tr>\n",
       "      <th>3</th>\n",
       "      <td>2.225498</td>\n",
       "      <td>-2.910247</td>\n",
       "    </tr>\n",
       "    <tr>\n",
       "      <th>4</th>\n",
       "      <td>0.427226</td>\n",
       "      <td>-3.521017</td>\n",
       "    </tr>\n",
       "  </tbody>\n",
       "</table>\n",
       "</div>"
      ],
      "text/plain": [
       "          A         B\n",
       "0  1.468932 -2.009810\n",
       "1  1.061459 -1.872694\n",
       "2  1.990768 -2.354977\n",
       "3  2.225498 -2.910247\n",
       "4  0.427226 -3.521017"
      ]
     },
     "execution_count": 18,
     "metadata": {},
     "output_type": "execute_result"
    }
   ],
   "source": [
    "df.head()"
   ]
  },
  {
   "cell_type": "code",
   "execution_count": 19,
   "metadata": {},
   "outputs": [
    {
     "data": {
      "text/html": [
       "<iframe id=\"igraph\" scrolling=\"no\" style=\"border:none;\" seamless=\"seamless\" src=\"https://plot.ly/~diegodz/92.embed\" height=\"525px\" width=\"100%\"></iframe>"
      ],
      "text/plain": [
       "<chart_studio.tools.PlotlyDisplay object>"
      ]
     },
     "execution_count": 19,
     "metadata": {},
     "output_type": "execute_result"
    }
   ],
   "source": [
    "df.iplot(filename='line-example')"
   ]
  },
  {
   "cell_type": "markdown",
   "metadata": {},
   "source": [
    "## Gráfico de barras"
   ]
  },
  {
   "cell_type": "code",
   "execution_count": 20,
   "metadata": {},
   "outputs": [
    {
     "name": "stderr",
     "output_type": "stream",
     "text": [
      "/home/diego/anaconda3/lib/python3.7/site-packages/IPython/core/interactiveshell.py:3049: DtypeWarning:\n",
      "\n",
      "Columns (8,39,46,47,48) have mixed types. Specify dtype option on import or set low_memory=False.\n",
      "\n"
     ]
    }
   ],
   "source": [
    "df = pd.read_csv('https://raw.githubusercontent.com/plotly/widgets/master/ipython-examples/311_150k.csv', parse_dates=True, index_col=1)"
   ]
  },
  {
   "cell_type": "code",
   "execution_count": 21,
   "metadata": {},
   "outputs": [
    {
     "data": {
      "text/html": [
       "<div>\n",
       "<style scoped>\n",
       "    .dataframe tbody tr th:only-of-type {\n",
       "        vertical-align: middle;\n",
       "    }\n",
       "\n",
       "    .dataframe tbody tr th {\n",
       "        vertical-align: top;\n",
       "    }\n",
       "\n",
       "    .dataframe thead th {\n",
       "        text-align: right;\n",
       "    }\n",
       "</style>\n",
       "<table border=\"1\" class=\"dataframe\">\n",
       "  <thead>\n",
       "    <tr style=\"text-align: right;\">\n",
       "      <th></th>\n",
       "      <th>Unique Key</th>\n",
       "      <th>Closed Date</th>\n",
       "      <th>Agency</th>\n",
       "      <th>Agency Name</th>\n",
       "      <th>Complaint Type</th>\n",
       "      <th>Descriptor</th>\n",
       "      <th>Location Type</th>\n",
       "      <th>Incident Zip</th>\n",
       "      <th>Incident Address</th>\n",
       "      <th>Street Name</th>\n",
       "      <th>...</th>\n",
       "      <th>Bridge Highway Name</th>\n",
       "      <th>Bridge Highway Direction</th>\n",
       "      <th>Road Ramp</th>\n",
       "      <th>Bridge Highway Segment</th>\n",
       "      <th>Garage Lot Name</th>\n",
       "      <th>Ferry Direction</th>\n",
       "      <th>Ferry Terminal Name</th>\n",
       "      <th>Latitude</th>\n",
       "      <th>Longitude</th>\n",
       "      <th>Location</th>\n",
       "    </tr>\n",
       "    <tr>\n",
       "      <th>Created Date</th>\n",
       "      <th></th>\n",
       "      <th></th>\n",
       "      <th></th>\n",
       "      <th></th>\n",
       "      <th></th>\n",
       "      <th></th>\n",
       "      <th></th>\n",
       "      <th></th>\n",
       "      <th></th>\n",
       "      <th></th>\n",
       "      <th></th>\n",
       "      <th></th>\n",
       "      <th></th>\n",
       "      <th></th>\n",
       "      <th></th>\n",
       "      <th></th>\n",
       "      <th></th>\n",
       "      <th></th>\n",
       "      <th></th>\n",
       "      <th></th>\n",
       "      <th></th>\n",
       "    </tr>\n",
       "  </thead>\n",
       "  <tbody>\n",
       "    <tr>\n",
       "      <th>2014-11-16 23:46:00</th>\n",
       "      <td>29300358</td>\n",
       "      <td>11/16/2014 11:46:00 PM</td>\n",
       "      <td>DSNY</td>\n",
       "      <td>BCC - Queens East</td>\n",
       "      <td>Derelict Vehicles</td>\n",
       "      <td>14 Derelict Vehicles</td>\n",
       "      <td>Street</td>\n",
       "      <td>11432</td>\n",
       "      <td>80-25 PARSONS BOULEVARD</td>\n",
       "      <td>PARSONS BOULEVARD</td>\n",
       "      <td>...</td>\n",
       "      <td>NaN</td>\n",
       "      <td>NaN</td>\n",
       "      <td>NaN</td>\n",
       "      <td>NaN</td>\n",
       "      <td>NaN</td>\n",
       "      <td>NaN</td>\n",
       "      <td>NaN</td>\n",
       "      <td>40.719411</td>\n",
       "      <td>-73.808882</td>\n",
       "      <td>(40.719410639341916, -73.80888158860446)</td>\n",
       "    </tr>\n",
       "    <tr>\n",
       "      <th>2014-11-16 02:24:35</th>\n",
       "      <td>29299837</td>\n",
       "      <td>11/16/2014 02:24:35 AM</td>\n",
       "      <td>DOB</td>\n",
       "      <td>Department of Buildings</td>\n",
       "      <td>Building/Use</td>\n",
       "      <td>Illegal Conversion Of Residential Building/Space</td>\n",
       "      <td>NaN</td>\n",
       "      <td>10465</td>\n",
       "      <td>938 HUNTINGTON AVENUE</td>\n",
       "      <td>HUNTINGTON AVENUE</td>\n",
       "      <td>...</td>\n",
       "      <td>NaN</td>\n",
       "      <td>NaN</td>\n",
       "      <td>NaN</td>\n",
       "      <td>NaN</td>\n",
       "      <td>NaN</td>\n",
       "      <td>NaN</td>\n",
       "      <td>NaN</td>\n",
       "      <td>40.827862</td>\n",
       "      <td>-73.830641</td>\n",
       "      <td>(40.827862046105416, -73.83064067165407)</td>\n",
       "    </tr>\n",
       "    <tr>\n",
       "      <th>2014-11-16 02:17:12</th>\n",
       "      <td>29297857</td>\n",
       "      <td>11/16/2014 02:50:48 AM</td>\n",
       "      <td>NYPD</td>\n",
       "      <td>New York City Police Department</td>\n",
       "      <td>Illegal Parking</td>\n",
       "      <td>Blocked Sidewalk</td>\n",
       "      <td>Street/Sidewalk</td>\n",
       "      <td>11201</td>\n",
       "      <td>229 DUFFIELD STREET</td>\n",
       "      <td>DUFFIELD STREET</td>\n",
       "      <td>...</td>\n",
       "      <td>NaN</td>\n",
       "      <td>NaN</td>\n",
       "      <td>NaN</td>\n",
       "      <td>NaN</td>\n",
       "      <td>NaN</td>\n",
       "      <td>NaN</td>\n",
       "      <td>NaN</td>\n",
       "      <td>40.691248</td>\n",
       "      <td>-73.984375</td>\n",
       "      <td>(40.69124772858873, -73.98437529459297)</td>\n",
       "    </tr>\n",
       "  </tbody>\n",
       "</table>\n",
       "<p>3 rows × 51 columns</p>\n",
       "</div>"
      ],
      "text/plain": [
       "                     Unique Key             Closed Date Agency  \\\n",
       "Created Date                                                     \n",
       "2014-11-16 23:46:00    29300358  11/16/2014 11:46:00 PM   DSNY   \n",
       "2014-11-16 02:24:35    29299837  11/16/2014 02:24:35 AM    DOB   \n",
       "2014-11-16 02:17:12    29297857  11/16/2014 02:50:48 AM   NYPD   \n",
       "\n",
       "                                         Agency Name     Complaint Type  \\\n",
       "Created Date                                                              \n",
       "2014-11-16 23:46:00                BCC - Queens East  Derelict Vehicles   \n",
       "2014-11-16 02:24:35          Department of Buildings       Building/Use   \n",
       "2014-11-16 02:17:12  New York City Police Department    Illegal Parking   \n",
       "\n",
       "                                                           Descriptor  \\\n",
       "Created Date                                                            \n",
       "2014-11-16 23:46:00                              14 Derelict Vehicles   \n",
       "2014-11-16 02:24:35  Illegal Conversion Of Residential Building/Space   \n",
       "2014-11-16 02:17:12                                  Blocked Sidewalk   \n",
       "\n",
       "                       Location Type Incident Zip         Incident Address  \\\n",
       "Created Date                                                                 \n",
       "2014-11-16 23:46:00           Street        11432  80-25 PARSONS BOULEVARD   \n",
       "2014-11-16 02:24:35              NaN        10465    938 HUNTINGTON AVENUE   \n",
       "2014-11-16 02:17:12  Street/Sidewalk        11201      229 DUFFIELD STREET   \n",
       "\n",
       "                           Street Name  ... Bridge Highway Name  \\\n",
       "Created Date                            ...                       \n",
       "2014-11-16 23:46:00  PARSONS BOULEVARD  ...                 NaN   \n",
       "2014-11-16 02:24:35  HUNTINGTON AVENUE  ...                 NaN   \n",
       "2014-11-16 02:17:12    DUFFIELD STREET  ...                 NaN   \n",
       "\n",
       "                    Bridge Highway Direction Road Ramp Bridge Highway Segment  \\\n",
       "Created Date                                                                    \n",
       "2014-11-16 23:46:00                      NaN       NaN                    NaN   \n",
       "2014-11-16 02:24:35                      NaN       NaN                    NaN   \n",
       "2014-11-16 02:17:12                      NaN       NaN                    NaN   \n",
       "\n",
       "                    Garage Lot Name Ferry Direction Ferry Terminal Name  \\\n",
       "Created Date                                                              \n",
       "2014-11-16 23:46:00             NaN             NaN                 NaN   \n",
       "2014-11-16 02:24:35             NaN             NaN                 NaN   \n",
       "2014-11-16 02:17:12             NaN             NaN                 NaN   \n",
       "\n",
       "                      Latitude  Longitude  \\\n",
       "Created Date                                \n",
       "2014-11-16 23:46:00  40.719411 -73.808882   \n",
       "2014-11-16 02:24:35  40.827862 -73.830641   \n",
       "2014-11-16 02:17:12  40.691248 -73.984375   \n",
       "\n",
       "                                                     Location  \n",
       "Created Date                                                   \n",
       "2014-11-16 23:46:00  (40.719410639341916, -73.80888158860446)  \n",
       "2014-11-16 02:24:35  (40.827862046105416, -73.83064067165407)  \n",
       "2014-11-16 02:17:12   (40.69124772858873, -73.98437529459297)  \n",
       "\n",
       "[3 rows x 51 columns]"
      ]
     },
     "execution_count": 21,
     "metadata": {},
     "output_type": "execute_result"
    }
   ],
   "source": [
    "df.head(3)"
   ]
  },
  {
   "cell_type": "code",
   "execution_count": 22,
   "metadata": {},
   "outputs": [],
   "source": [
    "series = df['Complaint Type'].value_counts()[:20]"
   ]
  },
  {
   "cell_type": "code",
   "execution_count": 23,
   "metadata": {},
   "outputs": [
    {
     "data": {
      "text/plain": [
       "HEAT/HOT WATER              32202\n",
       "Street Light Condition       7558\n",
       "Blocked Driveway             6997\n",
       "UNSANITARY CONDITION         6174\n",
       "PAINT/PLASTER                5388\n",
       "Illegal Parking              5381\n",
       "Street Condition             4847\n",
       "Noise                        4615\n",
       "PLUMBING                     4284\n",
       "Water System                 3323\n",
       "Noise - Commercial           3206\n",
       "DOOR/WINDOW                  3194\n",
       "Traffic Signal Condition     2766\n",
       "WATER LEAK                   2501\n",
       "Dirty Conditions             2283\n",
       "ELECTRIC                     2205\n",
       "Sanitation Condition         2195\n",
       "DOF Literature Request       2183\n",
       "Broken Muni Meter            2159\n",
       "FLOORING/STAIRS              2129\n",
       "Name: Complaint Type, dtype: int64"
      ]
     },
     "execution_count": 23,
     "metadata": {},
     "output_type": "execute_result"
    }
   ],
   "source": [
    "series"
   ]
  },
  {
   "cell_type": "code",
   "execution_count": 24,
   "metadata": {},
   "outputs": [
    {
     "data": {
      "text/html": [
       "<iframe id=\"igraph\" scrolling=\"no\" style=\"border:none;\" seamless=\"seamless\" src=\"https://plot.ly/~diegodz/94.embed\" height=\"525px\" width=\"100%\"></iframe>"
      ],
      "text/plain": [
       "<chart_studio.tools.PlotlyDisplay object>"
      ]
     },
     "execution_count": 24,
     "metadata": {},
     "output_type": "execute_result"
    }
   ],
   "source": [
    "series.iplot(kind='bar', filename='barras')"
   ]
  },
  {
   "cell_type": "code",
   "execution_count": 25,
   "metadata": {},
   "outputs": [],
   "source": [
    "df = pd.DataFrame(np.random.rand(10, 4), columns=['A', 'B', 'C', 'D'])"
   ]
  },
  {
   "cell_type": "code",
   "execution_count": 26,
   "metadata": {},
   "outputs": [
    {
     "data": {
      "text/html": [
       "<div>\n",
       "<style scoped>\n",
       "    .dataframe tbody tr th:only-of-type {\n",
       "        vertical-align: middle;\n",
       "    }\n",
       "\n",
       "    .dataframe tbody tr th {\n",
       "        vertical-align: top;\n",
       "    }\n",
       "\n",
       "    .dataframe thead th {\n",
       "        text-align: right;\n",
       "    }\n",
       "</style>\n",
       "<table border=\"1\" class=\"dataframe\">\n",
       "  <thead>\n",
       "    <tr style=\"text-align: right;\">\n",
       "      <th></th>\n",
       "      <th>A</th>\n",
       "      <th>B</th>\n",
       "      <th>C</th>\n",
       "      <th>D</th>\n",
       "    </tr>\n",
       "  </thead>\n",
       "  <tbody>\n",
       "    <tr>\n",
       "      <th>0</th>\n",
       "      <td>0.864200</td>\n",
       "      <td>0.343513</td>\n",
       "      <td>0.462888</td>\n",
       "      <td>0.631239</td>\n",
       "    </tr>\n",
       "    <tr>\n",
       "      <th>1</th>\n",
       "      <td>0.903306</td>\n",
       "      <td>0.911805</td>\n",
       "      <td>0.161114</td>\n",
       "      <td>0.958743</td>\n",
       "    </tr>\n",
       "    <tr>\n",
       "      <th>2</th>\n",
       "      <td>0.711092</td>\n",
       "      <td>0.871880</td>\n",
       "      <td>0.477521</td>\n",
       "      <td>0.121349</td>\n",
       "    </tr>\n",
       "    <tr>\n",
       "      <th>3</th>\n",
       "      <td>0.394112</td>\n",
       "      <td>0.615067</td>\n",
       "      <td>0.990442</td>\n",
       "      <td>0.437044</td>\n",
       "    </tr>\n",
       "    <tr>\n",
       "      <th>4</th>\n",
       "      <td>0.533061</td>\n",
       "      <td>0.157278</td>\n",
       "      <td>0.496085</td>\n",
       "      <td>0.061839</td>\n",
       "    </tr>\n",
       "  </tbody>\n",
       "</table>\n",
       "</div>"
      ],
      "text/plain": [
       "          A         B         C         D\n",
       "0  0.864200  0.343513  0.462888  0.631239\n",
       "1  0.903306  0.911805  0.161114  0.958743\n",
       "2  0.711092  0.871880  0.477521  0.121349\n",
       "3  0.394112  0.615067  0.990442  0.437044\n",
       "4  0.533061  0.157278  0.496085  0.061839"
      ]
     },
     "execution_count": 26,
     "metadata": {},
     "output_type": "execute_result"
    }
   ],
   "source": [
    "df.head()"
   ]
  },
  {
   "cell_type": "code",
   "execution_count": 27,
   "metadata": {},
   "outputs": [],
   "source": [
    "df_cumsum = df.cumsum()"
   ]
  },
  {
   "cell_type": "code",
   "execution_count": 28,
   "metadata": {},
   "outputs": [
    {
     "data": {
      "text/html": [
       "<div>\n",
       "<style scoped>\n",
       "    .dataframe tbody tr th:only-of-type {\n",
       "        vertical-align: middle;\n",
       "    }\n",
       "\n",
       "    .dataframe tbody tr th {\n",
       "        vertical-align: top;\n",
       "    }\n",
       "\n",
       "    .dataframe thead th {\n",
       "        text-align: right;\n",
       "    }\n",
       "</style>\n",
       "<table border=\"1\" class=\"dataframe\">\n",
       "  <thead>\n",
       "    <tr style=\"text-align: right;\">\n",
       "      <th></th>\n",
       "      <th>A</th>\n",
       "      <th>B</th>\n",
       "      <th>C</th>\n",
       "      <th>D</th>\n",
       "    </tr>\n",
       "  </thead>\n",
       "  <tbody>\n",
       "    <tr>\n",
       "      <th>0</th>\n",
       "      <td>0.864200</td>\n",
       "      <td>0.343513</td>\n",
       "      <td>0.462888</td>\n",
       "      <td>0.631239</td>\n",
       "    </tr>\n",
       "    <tr>\n",
       "      <th>1</th>\n",
       "      <td>1.767505</td>\n",
       "      <td>1.255318</td>\n",
       "      <td>0.624002</td>\n",
       "      <td>1.589983</td>\n",
       "    </tr>\n",
       "    <tr>\n",
       "      <th>2</th>\n",
       "      <td>2.478597</td>\n",
       "      <td>2.127198</td>\n",
       "      <td>1.101523</td>\n",
       "      <td>1.711332</td>\n",
       "    </tr>\n",
       "    <tr>\n",
       "      <th>3</th>\n",
       "      <td>2.872709</td>\n",
       "      <td>2.742265</td>\n",
       "      <td>2.091965</td>\n",
       "      <td>2.148375</td>\n",
       "    </tr>\n",
       "    <tr>\n",
       "      <th>4</th>\n",
       "      <td>3.405770</td>\n",
       "      <td>2.899543</td>\n",
       "      <td>2.588050</td>\n",
       "      <td>2.210214</td>\n",
       "    </tr>\n",
       "    <tr>\n",
       "      <th>5</th>\n",
       "      <td>3.486672</td>\n",
       "      <td>3.867491</td>\n",
       "      <td>2.904158</td>\n",
       "      <td>2.781289</td>\n",
       "    </tr>\n",
       "    <tr>\n",
       "      <th>6</th>\n",
       "      <td>4.434448</td>\n",
       "      <td>4.439313</td>\n",
       "      <td>2.983330</td>\n",
       "      <td>3.553561</td>\n",
       "    </tr>\n",
       "    <tr>\n",
       "      <th>7</th>\n",
       "      <td>4.685172</td>\n",
       "      <td>5.001223</td>\n",
       "      <td>3.273358</td>\n",
       "      <td>4.289178</td>\n",
       "    </tr>\n",
       "    <tr>\n",
       "      <th>8</th>\n",
       "      <td>5.232430</td>\n",
       "      <td>5.614014</td>\n",
       "      <td>4.041351</td>\n",
       "      <td>5.192164</td>\n",
       "    </tr>\n",
       "    <tr>\n",
       "      <th>9</th>\n",
       "      <td>5.587874</td>\n",
       "      <td>6.441123</td>\n",
       "      <td>4.232291</td>\n",
       "      <td>5.614997</td>\n",
       "    </tr>\n",
       "  </tbody>\n",
       "</table>\n",
       "</div>"
      ],
      "text/plain": [
       "          A         B         C         D\n",
       "0  0.864200  0.343513  0.462888  0.631239\n",
       "1  1.767505  1.255318  0.624002  1.589983\n",
       "2  2.478597  2.127198  1.101523  1.711332\n",
       "3  2.872709  2.742265  2.091965  2.148375\n",
       "4  3.405770  2.899543  2.588050  2.210214\n",
       "5  3.486672  3.867491  2.904158  2.781289\n",
       "6  4.434448  4.439313  2.983330  3.553561\n",
       "7  4.685172  5.001223  3.273358  4.289178\n",
       "8  5.232430  5.614014  4.041351  5.192164\n",
       "9  5.587874  6.441123  4.232291  5.614997"
      ]
     },
     "execution_count": 28,
     "metadata": {},
     "output_type": "execute_result"
    }
   ],
   "source": [
    "df_cumsum"
   ]
  },
  {
   "cell_type": "code",
   "execution_count": 29,
   "metadata": {},
   "outputs": [
    {
     "data": {
      "text/html": [
       "<iframe id=\"igraph\" scrolling=\"no\" style=\"border:none;\" seamless=\"seamless\" src=\"https://plot.ly/~diegodz/96.embed\" height=\"525px\" width=\"100%\"></iframe>"
      ],
      "text/plain": [
       "<chart_studio.tools.PlotlyDisplay object>"
      ]
     },
     "execution_count": 29,
     "metadata": {},
     "output_type": "execute_result"
    }
   ],
   "source": [
    "df_cumsum.iplot(kind='barh', barmode='stack', bargap=.1, filename='barras 2')"
   ]
  }
 ],
 "metadata": {
  "kernelspec": {
   "display_name": "Python 3",
   "language": "python",
   "name": "python3"
  },
  "language_info": {
   "codemirror_mode": {
    "name": "ipython",
    "version": 3
   },
   "file_extension": ".py",
   "mimetype": "text/x-python",
   "name": "python",
   "nbconvert_exporter": "python",
   "pygments_lexer": "ipython3",
   "version": "3.7.3"
  }
 },
 "nbformat": 4,
 "nbformat_minor": 2
}
